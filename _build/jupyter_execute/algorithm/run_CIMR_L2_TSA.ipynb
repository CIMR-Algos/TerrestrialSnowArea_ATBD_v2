{
 "cells": [
  {
   "cell_type": "code",
   "execution_count": 1,
   "metadata": {},
   "outputs": [],
   "source": [
    "# Stand-alone script to run TSA algorithm and write L2 TSA product, alternatively call through:\n",
    "# run_CIMR_L2_PolarOceans.py --no-oza-adjust \"C:/Users/zschende/OneDrive - Ilmatieteen laitos/Files/Projects/CIMR Devalgo/Data/SCEPS/SCEPS_l1b_sceps_geo_polar_scene_1_unfiltered_tot_minimal_nom_nedt_apc_tot_v2p1.nc\"\n",
    "\n",
    "import os \n",
    "import sys\n",
    "import numpy as np\n",
    "import xarray as xr\n",
    "import pyresample as pr\n",
    "import importlib\n",
    "\n",
    "# local imports\n",
    "if '/tools/' not in sys.path:\n",
    "    sys.path.insert(0, os.path.abspath('../.../') + 'algorithm/tools/')\n",
    "import l2_format as l2\n",
    "import TSA_algorithm as algorithm\n",
    "import l2_tools as tools"
   ]
  },
  {
   "cell_type": "code",
   "execution_count": 2,
   "metadata": {
    "tags": [
     "remove-output"
    ]
   },
   "outputs": [
    {
     "data": {
      "text/plain": [
       "<module 'l2_tools' from 'C:\\\\Users\\\\zschende\\\\OneDrive - Ilmatieteen laitos\\\\Files\\\\Projects\\\\CIMR Devalgo\\\\ATBD\\\\TerrestrialSnowArea_ATBD_v2\\\\algorithm/tools\\\\l2_tools.py'>"
      ]
     },
     "execution_count": 2,
     "metadata": {},
     "output_type": "execute_result"
    }
   ],
   "source": [
    "# reload local imports\n",
    "importlib.reload(l2)\n",
    "importlib.reload(algorithm)\n",
    "importlib.reload(tools)"
   ]
  },
  {
   "cell_type": "code",
   "execution_count": 3,
   "metadata": {
    "tags": [
     "parameters"
    ]
   },
   "outputs": [],
   "source": [
    "# tag 'parameters' for the CLI with papermill, adjust if necessary for stand-alone run\n",
    "l1b_path = ''\n",
    "l1x_path = os.path.abspath('../../../..../') + 'Data/SCEPS/SCEPS_l1x@KA_sceps_geo_polar_scene_1_unfiltered_tot_minimal_nom_nedt_apc_tot_v2p1.nc'\n",
    "aux_dir = '../data/auxiliary/'\n",
    "l2_dir = os.path.abspath('../../../..../') + 'Data/L2 Files/'\n",
    "l2_grid = 'ease2-3.125km-nh'"
   ]
  },
  {
   "cell_type": "code",
   "execution_count": 4,
   "metadata": {},
   "outputs": [],
   "source": [
    "# check input parameters\n",
    "l1x_scenes = ('devalgo_geometric', 'devalgo_radiometric', 'sceps_polar1')\n",
    "\n",
    "if not os.path.isfile(l1x_path):\n",
    "    if l1x_path not in l1x_scenes:\n",
    "        raise ValueError(\"The input L1X file does not exist, and is not one of the pre-registered {}\".format(l1x_scenes,))\n",
    "\n",
    "if not os.path.isdir(l2_dir):\n",
    "    raise ValueError(\"The L2 output directory {} does not exist.\".format(l2_dir))\n",
    "\n",
    "if not os.path.isdir(aux_dir):\n",
    "    raise ValueError(\"The auxiliary directory {} does not exist.\".format(aux_dir))"
   ]
  },
  {
   "cell_type": "code",
   "execution_count": 5,
   "metadata": {},
   "outputs": [],
   "source": [
    "# Handle pre-defined L1X files\n",
    "if l1x_path in l1x_scenes:\n",
    "    test_card_name = l1x_path\n",
    "    if l1x_path == 'devalgo_geometric':    \n",
    "        # DEVALGO simulated geometric test card\n",
    "        l1x_path = os.path.abspath('../../../..../') + 'Data/L1C Files/Geometric/'\n",
    "        l1x_fn = 'W_PT-DME-Lisbon-SAT-CIMR-1X@KA_C_DME_20230417T105425_LD_20280110T114800_20280110T115700_TN.nc'\n",
    "    elif l1x_path == 'devalgo_radiometric':\n",
    "        # DEVALGO simulated radiometric test card\n",
    "        l1x_path = os.path.abspath('../../../..../') + 'Data/L1C Files/Radiometric/'\n",
    "        l1x_fn = 'W_PT-DME-Lisbon-SAT-CIMR-1X@KA_C_DME_20230420T103323_LD_20280110T114800_20280110T115700_TN.nc'\n",
    "    elif l1x_path == 'sceps_polar1':\n",
    "        # SCEPS simulated radiometric test card\n",
    "        l1x_path = os.path.abspath('../../../..../') + 'Data/SCEPS/'\n",
    "        l1x_fn = 'SCEPS_l1x@KA_sceps_geo_polar_scene_1_unfiltered_tot_minimal_nom_nedt_apc_tot_v2p1.nc'\n",
    "    else:\n",
    "        raise ValueError(\"Unknown test_card {}\".format(l1x_path))\n",
    "        \n",
    "    l1x_path = os.path.join(l1x_path, l1x_fn)\n",
    "else:\n",
    "    if 'devalgo_test_scene_1' in os.path.basename(l1x_path):\n",
    "        test_card_name = 'devalgo_radiometric'\n",
    "    elif 'devalgo_test_scene_2' in os.path.basename(l1x_path):\n",
    "        test_card_name = 'devalgo_geometric'\n",
    "    elif 'sceps_geo_polar_scene_1':\n",
    "        test_card_name = 'sceps_polar1'\n",
    "    else:\n",
    "        test_card_name = 'unknown'"
   ]
  },
  {
   "cell_type": "code",
   "execution_count": 6,
   "metadata": {},
   "outputs": [],
   "source": [
    "area_def = pr.load_area('ease2_adef.yaml',l2_grid)"
   ]
  },
  {
   "cell_type": "code",
   "execution_count": 7,
   "metadata": {},
   "outputs": [],
   "source": [
    "# load landmask if available\n",
    "if test_card_name == 'devalgo_geometric':\n",
    "    dem_ref_scenario = os.path.abspath('../../../..../') + 'Data/Test_scenes_downscaled_projected/test_scene_2_compressed_lowres.nc'\n",
    "    ds = xr.open_dataset(dem_ref_scenario)\n",
    "    lons = ds['Longitude'].values\n",
    "    lats = ds['Latitude'].values\n",
    "\n",
    "    swath_def = pr.geometry.SwathDefinition(lons=lons, lats=lats)\n",
    "    land_mask = pr.kd_tree.resample_nearest(swath_def, np.float64(ds['landflag'].values), area_def,\n",
    "                            radius_of_influence=20000/4, fill_value=np.nan)\n",
    "\n",
    "elif test_card_name == 'devalgo_radiometric':\n",
    "    dem_ref_scenario = os.path.abspath('../../../..../') + 'Data/Test_scenes_downscaled_projected/test_scene_1_compressed_lowres.nc'\n",
    "    ds= xr.open_dataset(dem_ref_scenario)\n",
    "    lons = ds['Longitude'].values\n",
    "    lats = ds['Latitude'].values\n",
    "\n",
    "    swath_def = pr.geometry.SwathDefinition(lons=lons, lats=lats)\n",
    "    land_mask = pr.kd_tree.resample_nearest(swath_def, np.float64(ds['landflag'].values), area_def,\n",
    "                            radius_of_influence=20000/4, fill_value=np.nan)\n",
    "\n",
    "elif test_card_name == 'sceps_polar1':\n",
    "    dem_ref_scenario = os.path.abspath('../../../..../') + 'Data/SCEPS/cimr_sceps_geo_card_devalgo_polarscene_1_20161217_harmonised_v2p0_surface.nc'\n",
    "    ds = xr.open_dataset(dem_ref_scenario)\n",
    "    lons = ds['longitude'].values[0,:,:]\n",
    "    lats = ds['latitude'].values[0,:,:]\n",
    "\n",
    "    swath_def = pr.geometry.SwathDefinition(lons=lons, lats=lats)\n",
    "    land_mask = pr.kd_tree.resample_nearest(swath_def, np.float64(ds['land_sea_ice_mask'].values[0,:,:]), area_def,\n",
    "                            radius_of_influence=20000/4, fill_value=np.nan)\n",
    "\n",
    "    land_mask[(land_mask == 1) | (land_mask == 9)] = 0      # set water (incl. sea ice)\n",
    "    land_mask[land_mask == 2] = 1                           # set land\n",
    "\n",
    "ds.close()"
   ]
  },
  {
   "cell_type": "code",
   "execution_count": 8,
   "metadata": {},
   "outputs": [],
   "source": [
    "algo = 'Pulliainen2010'\n",
    "algo_version = '0.9.0'"
   ]
  },
  {
   "cell_type": "code",
   "execution_count": 9,
   "metadata": {},
   "outputs": [],
   "source": [
    "# read L1X data\n",
    "data_fwd,geo_fwd,data_bck,geo_bck = tools.read_l1x(l1x_path)"
   ]
  },
  {
   "cell_type": "code",
   "execution_count": 10,
   "metadata": {},
   "outputs": [],
   "source": [
    "# detection forward and backward\n",
    "TSA_fwd = algorithm.dry_snow_detection(data_fwd,tsa_algorithm=algo)\n",
    "TSA_bck = algorithm.dry_snow_detection(data_bck,tsa_algorithm=algo)"
   ]
  },
  {
   "cell_type": "code",
   "execution_count": 11,
   "metadata": {},
   "outputs": [],
   "source": [
    "# individual reprojection\n",
    "TSA_fwd_proj = tools.reproject_to_grid(TSA_fwd,geo_fwd,area_def=area_def)\n",
    "TSA_bck_proj = tools.reproject_to_grid(TSA_bck,geo_bck,area_def=area_def)"
   ]
  },
  {
   "cell_type": "code",
   "execution_count": 12,
   "metadata": {},
   "outputs": [],
   "source": [
    "# intermediate combined data\n",
    "TSA_comb, TSA_comb_uncert = tools.combine_proj(TSA_fwd_proj,TSA_bck_proj)"
   ]
  },
  {
   "cell_type": "code",
   "execution_count": 13,
   "metadata": {},
   "outputs": [],
   "source": [
    "# status_flag\n",
    "TSA_status_flag = np.zeros(TSA_comb.shape, dtype='i8')\n",
    "\n",
    "TSA_status_flag[TSA_status_flag == 0] = 8                    # 8: no data, out of grid\n",
    "TSA_status_flag[land_mask == 0] = 0                          # 0: water\n",
    "TSA_status_flag[(TSA_comb == 0) & (land_mask == 1)] = 1      # 1: land\n",
    "TSA_status_flag[(TSA_comb == 1) & (land_mask == 1)] = 2      # 2: valid snow\n",
    "# TSA_status_flag[] = 3                                      # 3: [placeholder]\n",
    "\n",
    "status_flag_comment = '0: water; 1: land; 2: snow (valid); 3-7: [placeholders]; 8: no data, out of grid.'"
   ]
  },
  {
   "cell_type": "code",
   "execution_count": 14,
   "metadata": {},
   "outputs": [],
   "source": [
    "# TSA_uncertainty\n",
    "TSA_uncertainty = np.zeros(TSA_comb.shape, dtype='i8') \n",
    "\n",
    "TSA_uncertainty[TSA_comb_uncert == 0] = 0                    # 0: very likely snow-free\n",
    "TSA_uncertainty[TSA_comb_uncert == 0.5] = 1                  # 1: likely snow\n",
    "TSA_uncertainty[TSA_comb_uncert == 1] = 2                    # 2: very likely snow"
   ]
  },
  {
   "cell_type": "code",
   "execution_count": 15,
   "metadata": {},
   "outputs": [],
   "source": [
    "# TSA\n",
    "TSA_l2 = TSA_comb\n",
    "# TSA_l2 = np.zeros(TSA_status_flag.shape)\n",
    "\n",
    "# TSA_l2[TSA_l2 == 0] = np.nan                                 # nan: no data, out of grid\n",
    "# TSA_l2[TSA_comb == 0] = 0                                    # 0: snow free\n",
    "# TSA_l2[TSA_comb == 1] = 1                                    # 1: snow covered (dry)\n",
    "# TSA_l2[TSA_comb == 2] = 2                                    # 2: snow covered (wet) [placeholder]"
   ]
  },
  {
   "cell_type": "code",
   "execution_count": 16,
   "metadata": {},
   "outputs": [],
   "source": [
    "# get template L2 format (netCDF/CF) from the Tools module\n",
    "ds_l2 = l2.get_CIMR_L2_template('grid', geo_def=area_def, add_time=None)\n",
    "\n",
    "# create DataArray for TSA from template\n",
    "da_tsa = xr.DataArray(TSA_l2, coords=ds_l2['template'].coords, dims=ds_l2['template'].dims,\n",
    "                        attrs=ds_l2['template'].attrs, name='tsa')\n",
    "da_tsa.attrs['long_name'] = 'Terrestrial Snow Area ({} algorithm)'.format(algo)\n",
    "da_tsa.attrs['standard_name'] = 'terrestrial_snow_area'\n",
    "da_tsa.attrs['units'] = 1\n",
    "da_tsa.attrs['coverage_content_type'] = 'NA'\n",
    "da_tsa.attrs['auxiliary_variables'] = 'terrestrial_snow_area_uncertainty,status_flag'\n",
    "\n",
    "# create DataArray for TSA_uncertainty from template\n",
    "da_uncert = xr.DataArray(TSA_uncertainty, coords=ds_l2['template'].coords, dims=ds_l2['template'].dims,\n",
    "                        attrs=ds_l2['template'].attrs, name='tsa_uncertainty')\n",
    "da_uncert.attrs['long_name'] = 'Qualitative uncertainty for Terrestrial Snow Area'\n",
    "da_uncert.attrs['standard_name'] = 'terrestrial_snow_area_uncertainty'\n",
    "da_uncert.attrs['coverage_content_type'] = 'QualityInformation'\n",
    "da_uncert.attrs['units'] = 1\n",
    "\n",
    "# create DataArray for status_flag from template\n",
    "da_flag = xr.DataArray(TSA_status_flag, coords=ds_l2['template'].coords, dims=ds_l2['template'].dims,\n",
    "                        attrs=ds_l2['template'].attrs, name='status_flag')\n",
    "da_flag.attrs['long_name'] = 'Status flag for Terrestrial Snow Area'\n",
    "da_flag.attrs['coverage_content_type'] = 'AuxiliaryInformation'\n",
    "da_flag.attrs['comment'] = status_flag_comment"
   ]
  },
  {
   "cell_type": "code",
   "execution_count": 17,
   "metadata": {
    "tags": [
     "remove-output"
    ]
   },
   "outputs": [
    {
     "name": "stdout",
     "output_type": "stream",
     "text": [
      "C:\\Users\\zschende\\OneDrive - Ilmatieteen laitos\\Files\\Projects\\CIMR Devalgo\\Data/L2 Files/cimr_devalgo_l2_tsa_ease2-3.125km-nh_sceps-polar1.nc\n"
     ]
    }
   ],
   "source": [
    "# add data arrays to ds_l2 object\n",
    "ds_l2 = ds_l2.merge(da_tsa)\n",
    "ds_l2 = ds_l2.merge(da_uncert)\n",
    "ds_l2 = ds_l2.merge(da_flag)\n",
    "\n",
    "# customize global attributes\n",
    "ds_l2.attrs['title'] = 'CIMR L2 NRT3H Terrestrial Snow Area'\n",
    "ds_l2.attrs['summary'] = 'Terrestrial Snow Area computed with the prototype algorithm developed in the ESA CIMR DEVALGO study. The algorithm combines brightness temperatures from the Ku and Ka channels. The product file contains the TSA, its uncertainties, and status flag.'\n",
    "ds_l2.attrs['l1b_file'] = l1b_path\n",
    "ds_l2.attrs['l1x_file'] = l1x_path\n",
    "ds_l2.attrs['algorithm_version'] = algo_version\n",
    "ds_l2.attrs['creator_name'] = 'Lina Zschenderlein'\n",
    "ds_l2.attrs['creator_email'] = 'lina.zschenderlein@fmi.fi'\n",
    "ds_l2.attrs['institution'] = 'Finnish Meteorological Institute'\n",
    "\n",
    "# remove 'template' variable\n",
    "ds_l2 = ds_l2.drop('template')\n",
    "\n",
    "# write to file\n",
    "l2_n = 'cimr_devalgo_l2_tsa_{}_{}.nc'.format(l2_grid, test_card_name.replace('_','-'), )\n",
    "l2_n = os.path.join(l2_dir, l2_n)\n",
    "ds_l2.to_netcdf(l2_n, format='NETCDF4_CLASSIC')\n",
    "print(l2_n)"
   ]
  }
 ],
 "metadata": {
  "kernelspec": {
   "display_name": "atbd",
   "language": "python",
   "name": "python3"
  },
  "language_info": {
   "codemirror_mode": {
    "name": "ipython",
    "version": 3
   },
   "file_extension": ".py",
   "mimetype": "text/x-python",
   "name": "python",
   "nbconvert_exporter": "python",
   "pygments_lexer": "ipython3",
   "version": "3.11.7"
  }
 },
 "nbformat": 4,
 "nbformat_minor": 2
}